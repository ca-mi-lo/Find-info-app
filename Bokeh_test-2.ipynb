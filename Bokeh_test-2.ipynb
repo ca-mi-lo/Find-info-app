{
 "cells": [
  {
   "cell_type": "code",
   "execution_count": 1,
   "metadata": {},
   "outputs": [],
   "source": [
    "import streamlit as st\n",
    "import pandas as pd\n",
    "import numpy as np\n",
    "import matplotlib.pyplot as plt\n",
    "\n",
    "from pathlib import Path\n",
    "from collections import OrderedDict\n",
    "\n",
    "from bokeh.io import output_notebook\n",
    "from bokeh.models import ColumnDataSource, FactorRange\n",
    "from bokeh.plotting import figure, show\n",
    "#from bokeh.palettes import Viridis256, Spectral6, GnBu3, OrRd8, Category10_8\n",
    "import bokeh.palettes as palettes\n",
    "from bokeh.transform import factor_cmap\n",
    "from bokeh.models import Legend, Label\n",
    "\n"
   ]
  },
  {
   "cell_type": "code",
   "execution_count": 2,
   "metadata": {},
   "outputs": [
    {
     "data": {
      "text/html": [
       "<div class=\"bk-root\">\n",
       "        <a href=\"https://bokeh.org\" target=\"_blank\" class=\"bk-logo bk-logo-small bk-logo-notebook\"></a>\n",
       "        <span id=\"1002\">Loading BokehJS ...</span>\n",
       "    </div>\n"
      ]
     },
     "metadata": {},
     "output_type": "display_data"
    },
    {
     "data": {
      "application/javascript": "(function(root) {\n  function now() {\n    return new Date();\n  }\n\n  const force = true;\n\n  if (typeof root._bokeh_onload_callbacks === \"undefined\" || force === true) {\n    root._bokeh_onload_callbacks = [];\n    root._bokeh_is_loading = undefined;\n  }\n\nconst JS_MIME_TYPE = 'application/javascript';\n  const HTML_MIME_TYPE = 'text/html';\n  const EXEC_MIME_TYPE = 'application/vnd.bokehjs_exec.v0+json';\n  const CLASS_NAME = 'output_bokeh rendered_html';\n\n  /**\n   * Render data to the DOM node\n   */\n  function render(props, node) {\n    const script = document.createElement(\"script\");\n    node.appendChild(script);\n  }\n\n  /**\n   * Handle when an output is cleared or removed\n   */\n  function handleClearOutput(event, handle) {\n    const cell = handle.cell;\n\n    const id = cell.output_area._bokeh_element_id;\n    const server_id = cell.output_area._bokeh_server_id;\n    // Clean up Bokeh references\n    if (id != null && id in Bokeh.index) {\n      Bokeh.index[id].model.document.clear();\n      delete Bokeh.index[id];\n    }\n\n    if (server_id !== undefined) {\n      // Clean up Bokeh references\n      const cmd_clean = \"from bokeh.io.state import curstate; print(curstate().uuid_to_server['\" + server_id + \"'].get_sessions()[0].document.roots[0]._id)\";\n      cell.notebook.kernel.execute(cmd_clean, {\n        iopub: {\n          output: function(msg) {\n            const id = msg.content.text.trim();\n            if (id in Bokeh.index) {\n              Bokeh.index[id].model.document.clear();\n              delete Bokeh.index[id];\n            }\n          }\n        }\n      });\n      // Destroy server and session\n      const cmd_destroy = \"import bokeh.io.notebook as ion; ion.destroy_server('\" + server_id + \"')\";\n      cell.notebook.kernel.execute(cmd_destroy);\n    }\n  }\n\n  /**\n   * Handle when a new output is added\n   */\n  function handleAddOutput(event, handle) {\n    const output_area = handle.output_area;\n    const output = handle.output;\n\n    // limit handleAddOutput to display_data with EXEC_MIME_TYPE content only\n    if ((output.output_type != \"display_data\") || (!Object.prototype.hasOwnProperty.call(output.data, EXEC_MIME_TYPE))) {\n      return\n    }\n\n    const toinsert = output_area.element.find(\".\" + CLASS_NAME.split(' ')[0]);\n\n    if (output.metadata[EXEC_MIME_TYPE][\"id\"] !== undefined) {\n      toinsert[toinsert.length - 1].firstChild.textContent = output.data[JS_MIME_TYPE];\n      // store reference to embed id on output_area\n      output_area._bokeh_element_id = output.metadata[EXEC_MIME_TYPE][\"id\"];\n    }\n    if (output.metadata[EXEC_MIME_TYPE][\"server_id\"] !== undefined) {\n      const bk_div = document.createElement(\"div\");\n      bk_div.innerHTML = output.data[HTML_MIME_TYPE];\n      const script_attrs = bk_div.children[0].attributes;\n      for (let i = 0; i < script_attrs.length; i++) {\n        toinsert[toinsert.length - 1].firstChild.setAttribute(script_attrs[i].name, script_attrs[i].value);\n        toinsert[toinsert.length - 1].firstChild.textContent = bk_div.children[0].textContent\n      }\n      // store reference to server id on output_area\n      output_area._bokeh_server_id = output.metadata[EXEC_MIME_TYPE][\"server_id\"];\n    }\n  }\n\n  function register_renderer(events, OutputArea) {\n\n    function append_mime(data, metadata, element) {\n      // create a DOM node to render to\n      const toinsert = this.create_output_subarea(\n        metadata,\n        CLASS_NAME,\n        EXEC_MIME_TYPE\n      );\n      this.keyboard_manager.register_events(toinsert);\n      // Render to node\n      const props = {data: data, metadata: metadata[EXEC_MIME_TYPE]};\n      render(props, toinsert[toinsert.length - 1]);\n      element.append(toinsert);\n      return toinsert\n    }\n\n    /* Handle when an output is cleared or removed */\n    events.on('clear_output.CodeCell', handleClearOutput);\n    events.on('delete.Cell', handleClearOutput);\n\n    /* Handle when a new output is added */\n    events.on('output_added.OutputArea', handleAddOutput);\n\n    /**\n     * Register the mime type and append_mime function with output_area\n     */\n    OutputArea.prototype.register_mime_type(EXEC_MIME_TYPE, append_mime, {\n      /* Is output safe? */\n      safe: true,\n      /* Index of renderer in `output_area.display_order` */\n      index: 0\n    });\n  }\n\n  // register the mime type if in Jupyter Notebook environment and previously unregistered\n  if (root.Jupyter !== undefined) {\n    const events = require('base/js/events');\n    const OutputArea = require('notebook/js/outputarea').OutputArea;\n\n    if (OutputArea.prototype.mime_types().indexOf(EXEC_MIME_TYPE) == -1) {\n      register_renderer(events, OutputArea);\n    }\n  }\n  if (typeof (root._bokeh_timeout) === \"undefined\" || force === true) {\n    root._bokeh_timeout = Date.now() + 5000;\n    root._bokeh_failed_load = false;\n  }\n\n  const NB_LOAD_WARNING = {'data': {'text/html':\n     \"<div style='background-color: #fdd'>\\n\"+\n     \"<p>\\n\"+\n     \"BokehJS does not appear to have successfully loaded. If loading BokehJS from CDN, this \\n\"+\n     \"may be due to a slow or bad network connection. Possible fixes:\\n\"+\n     \"</p>\\n\"+\n     \"<ul>\\n\"+\n     \"<li>re-rerun `output_notebook()` to attempt to load from CDN again, or</li>\\n\"+\n     \"<li>use INLINE resources instead, as so:</li>\\n\"+\n     \"</ul>\\n\"+\n     \"<code>\\n\"+\n     \"from bokeh.resources import INLINE\\n\"+\n     \"output_notebook(resources=INLINE)\\n\"+\n     \"</code>\\n\"+\n     \"</div>\"}};\n\n  function display_loaded() {\n    const el = document.getElementById(\"1002\");\n    if (el != null) {\n      el.textContent = \"BokehJS is loading...\";\n    }\n    if (root.Bokeh !== undefined) {\n      if (el != null) {\n        el.textContent = \"BokehJS \" + root.Bokeh.version + \" successfully loaded.\";\n      }\n    } else if (Date.now() < root._bokeh_timeout) {\n      setTimeout(display_loaded, 100)\n    }\n  }\n\n  function run_callbacks() {\n    try {\n      root._bokeh_onload_callbacks.forEach(function(callback) {\n        if (callback != null)\n          callback();\n      });\n    } finally {\n      delete root._bokeh_onload_callbacks\n    }\n    console.debug(\"Bokeh: all callbacks have finished\");\n  }\n\n  function load_libs(css_urls, js_urls, callback) {\n    if (css_urls == null) css_urls = [];\n    if (js_urls == null) js_urls = [];\n\n    root._bokeh_onload_callbacks.push(callback);\n    if (root._bokeh_is_loading > 0) {\n      console.debug(\"Bokeh: BokehJS is being loaded, scheduling callback at\", now());\n      return null;\n    }\n    if (js_urls == null || js_urls.length === 0) {\n      run_callbacks();\n      return null;\n    }\n    console.debug(\"Bokeh: BokehJS not loaded, scheduling load and callback at\", now());\n    root._bokeh_is_loading = css_urls.length + js_urls.length;\n\n    function on_load() {\n      root._bokeh_is_loading--;\n      if (root._bokeh_is_loading === 0) {\n        console.debug(\"Bokeh: all BokehJS libraries/stylesheets loaded\");\n        run_callbacks()\n      }\n    }\n\n    function on_error(url) {\n      console.error(\"failed to load \" + url);\n    }\n\n    for (let i = 0; i < css_urls.length; i++) {\n      const url = css_urls[i];\n      const element = document.createElement(\"link\");\n      element.onload = on_load;\n      element.onerror = on_error.bind(null, url);\n      element.rel = \"stylesheet\";\n      element.type = \"text/css\";\n      element.href = url;\n      console.debug(\"Bokeh: injecting link tag for BokehJS stylesheet: \", url);\n      document.body.appendChild(element);\n    }\n\n    for (let i = 0; i < js_urls.length; i++) {\n      const url = js_urls[i];\n      const element = document.createElement('script');\n      element.onload = on_load;\n      element.onerror = on_error.bind(null, url);\n      element.async = false;\n      element.src = url;\n      console.debug(\"Bokeh: injecting script tag for BokehJS library: \", url);\n      document.head.appendChild(element);\n    }\n  };\n\n  function inject_raw_css(css) {\n    const element = document.createElement(\"style\");\n    element.appendChild(document.createTextNode(css));\n    document.body.appendChild(element);\n  }\n\n  const js_urls = [\"https://cdn.bokeh.org/bokeh/release/bokeh-2.4.3.min.js\", \"https://cdn.bokeh.org/bokeh/release/bokeh-gl-2.4.3.min.js\", \"https://cdn.bokeh.org/bokeh/release/bokeh-widgets-2.4.3.min.js\", \"https://cdn.bokeh.org/bokeh/release/bokeh-tables-2.4.3.min.js\", \"https://cdn.bokeh.org/bokeh/release/bokeh-mathjax-2.4.3.min.js\"];\n  const css_urls = [];\n\n  const inline_js = [    function(Bokeh) {\n      Bokeh.set_log_level(\"info\");\n    },\nfunction(Bokeh) {\n    }\n  ];\n\n  function run_inline_js() {\n    if (root.Bokeh !== undefined || force === true) {\n          for (let i = 0; i < inline_js.length; i++) {\n      inline_js[i].call(root, root.Bokeh);\n    }\nif (force === true) {\n        display_loaded();\n      }} else if (Date.now() < root._bokeh_timeout) {\n      setTimeout(run_inline_js, 100);\n    } else if (!root._bokeh_failed_load) {\n      console.log(\"Bokeh: BokehJS failed to load within specified timeout.\");\n      root._bokeh_failed_load = true;\n    } else if (force !== true) {\n      const cell = $(document.getElementById(\"1002\")).parents('.cell').data().cell;\n      cell.output_area.append_execute_result(NB_LOAD_WARNING)\n    }\n  }\n\n  if (root._bokeh_is_loading === 0) {\n    console.debug(\"Bokeh: BokehJS loaded, going straight to plotting\");\n    run_inline_js();\n  } else {\n    load_libs(css_urls, js_urls, function() {\n      console.debug(\"Bokeh: BokehJS plotting callback run at\", now());\n      run_inline_js();\n    });\n  }\n}(window));",
      "application/vnd.bokehjs_load.v0+json": ""
     },
     "metadata": {},
     "output_type": "display_data"
    }
   ],
   "source": [
    "output_notebook()"
   ]
  },
  {
   "cell_type": "markdown",
   "metadata": {},
   "source": []
  },
  {
   "cell_type": "code",
   "execution_count": 3,
   "metadata": {},
   "outputs": [],
   "source": [
    "df_ = pd.read_csv(\"./papers/datasets/one_shot_classif.csv\")"
   ]
  },
  {
   "cell_type": "code",
   "execution_count": 61,
   "metadata": {},
   "outputs": [
    {
     "data": {
      "text/html": [
       "<div>\n",
       "<style scoped>\n",
       "    .dataframe tbody tr th:only-of-type {\n",
       "        vertical-align: middle;\n",
       "    }\n",
       "\n",
       "    .dataframe tbody tr th {\n",
       "        vertical-align: top;\n",
       "    }\n",
       "\n",
       "    .dataframe thead th {\n",
       "        text-align: right;\n",
       "    }\n",
       "</style>\n",
       "<table border=\"1\" class=\"dataframe\">\n",
       "  <thead>\n",
       "    <tr style=\"text-align: right;\">\n",
       "      <th></th>\n",
       "      <th>page_content</th>\n",
       "      <th>source</th>\n",
       "      <th>format</th>\n",
       "      <th>title</th>\n",
       "      <th>author</th>\n",
       "      <th>subject</th>\n",
       "      <th>keywords</th>\n",
       "      <th>creator</th>\n",
       "      <th>producer</th>\n",
       "      <th>creationDate</th>\n",
       "      <th>modDate</th>\n",
       "      <th>trapped</th>\n",
       "      <th>encryption</th>\n",
       "      <th>start_index</th>\n",
       "      <th>text</th>\n",
       "      <th>category</th>\n",
       "      <th>racional</th>\n",
       "      <th>error_indx</th>\n",
       "    </tr>\n",
       "  </thead>\n",
       "  <tbody>\n",
       "    <tr>\n",
       "      <th>0</th>\n",
       "      <td>Journal of Apicultural Research , 2015\\n[http:...</td>\n",
       "      <td>papers/test_samples/Ruano-Iraheta et al., 2015...</td>\n",
       "      <td>PDF 1.6</td>\n",
       "      <td>Stingless bee distribution and richness in El ...</td>\n",
       "      <td>Carlos Enrique Ruano Iraheta</td>\n",
       "      <td>Journal of Apicultural Research, 2015. doi:10....</td>\n",
       "      <td>NaN</td>\n",
       "      <td>Arbortext Advanced Print Publisher 9.1.531/W U...</td>\n",
       "      <td>Acrobat Distiller 9.0.0 (Windows)</td>\n",
       "      <td>D:20150617193331+05'30'</td>\n",
       "      <td>D:20150617193752+05'30'</td>\n",
       "      <td>NaN</td>\n",
       "      <td>NaN</td>\n",
       "      <td>1</td>\n",
       "      <td>page_content='Journal of Apicultural Research ...</td>\n",
       "      <td>Metadatos</td>\n",
       "      <td>Se menciona la institución que publicó el artí...</td>\n",
       "      <td>NaN</td>\n",
       "    </tr>\n",
       "  </tbody>\n",
       "</table>\n",
       "</div>"
      ],
      "text/plain": [
       "                                        page_content  \\\n",
       "0  Journal of Apicultural Research , 2015\\n[http:...   \n",
       "\n",
       "                                              source   format  \\\n",
       "0  papers/test_samples/Ruano-Iraheta et al., 2015...  PDF 1.6   \n",
       "\n",
       "                                               title  \\\n",
       "0  Stingless bee distribution and richness in El ...   \n",
       "\n",
       "                         author  \\\n",
       "0  Carlos Enrique Ruano Iraheta   \n",
       "\n",
       "                                             subject keywords  \\\n",
       "0  Journal of Apicultural Research, 2015. doi:10....      NaN   \n",
       "\n",
       "                                             creator  \\\n",
       "0  Arbortext Advanced Print Publisher 9.1.531/W U...   \n",
       "\n",
       "                            producer             creationDate  \\\n",
       "0  Acrobat Distiller 9.0.0 (Windows)  D:20150617193331+05'30'   \n",
       "\n",
       "                   modDate  trapped  encryption  start_index  \\\n",
       "0  D:20150617193752+05'30'      NaN         NaN            1   \n",
       "\n",
       "                                                text   category  \\\n",
       "0  page_content='Journal of Apicultural Research ...  Metadatos   \n",
       "\n",
       "                                            racional  error_indx  \n",
       "0  Se menciona la institución que publicó el artí...         NaN  "
      ]
     },
     "execution_count": 61,
     "metadata": {},
     "output_type": "execute_result"
    }
   ],
   "source": [
    "df_.head(1)"
   ]
  },
  {
   "cell_type": "code",
   "execution_count": 5,
   "metadata": {},
   "outputs": [
    {
     "data": {
      "text/html": [
       "<div>\n",
       "<style scoped>\n",
       "    .dataframe tbody tr th:only-of-type {\n",
       "        vertical-align: middle;\n",
       "    }\n",
       "\n",
       "    .dataframe tbody tr th {\n",
       "        vertical-align: top;\n",
       "    }\n",
       "\n",
       "    .dataframe thead th {\n",
       "        text-align: right;\n",
       "    }\n",
       "</style>\n",
       "<table border=\"1\" class=\"dataframe\">\n",
       "  <thead>\n",
       "    <tr style=\"text-align: right;\">\n",
       "      <th>category</th>\n",
       "      <th>Biología de la especie</th>\n",
       "      <th>Clasificación y descripción de la especie</th>\n",
       "      <th>Distribución de la especie</th>\n",
       "      <th>Ecología y demografía de la especie</th>\n",
       "      <th>Estado de conservación de la especie</th>\n",
       "      <th>Importancia de la especie</th>\n",
       "      <th>Metadatos</th>\n",
       "      <th>Tipo de ambiente en donde se desarrolla la especie</th>\n",
       "    </tr>\n",
       "    <tr>\n",
       "      <th>file_name</th>\n",
       "      <th></th>\n",
       "      <th></th>\n",
       "      <th></th>\n",
       "      <th></th>\n",
       "      <th></th>\n",
       "      <th></th>\n",
       "      <th></th>\n",
       "      <th></th>\n",
       "    </tr>\n",
       "  </thead>\n",
       "  <tbody>\n",
       "    <tr>\n",
       "      <th>Biesmeijer &amp; Tóth, 1998.pdf</th>\n",
       "      <td>12.0</td>\n",
       "      <td>NaN</td>\n",
       "      <td>NaN</td>\n",
       "      <td>1.0</td>\n",
       "      <td>NaN</td>\n",
       "      <td>NaN</td>\n",
       "      <td>4.0</td>\n",
       "      <td>1.0</td>\n",
       "    </tr>\n",
       "    <tr>\n",
       "      <th>González-Jaramillo et al., 2019.pdf</th>\n",
       "      <td>1.0</td>\n",
       "      <td>1.0</td>\n",
       "      <td>NaN</td>\n",
       "      <td>NaN</td>\n",
       "      <td>NaN</td>\n",
       "      <td>2.0</td>\n",
       "      <td>2.0</td>\n",
       "      <td>NaN</td>\n",
       "    </tr>\n",
       "    <tr>\n",
       "      <th>Macías-Macías et al., 2011.pdf</th>\n",
       "      <td>12.0</td>\n",
       "      <td>1.0</td>\n",
       "      <td>3.0</td>\n",
       "      <td>NaN</td>\n",
       "      <td>NaN</td>\n",
       "      <td>NaN</td>\n",
       "      <td>4.0</td>\n",
       "      <td>NaN</td>\n",
       "    </tr>\n",
       "    <tr>\n",
       "      <th>Ruano-Iraheta et al., 2015.pdf</th>\n",
       "      <td>3.0</td>\n",
       "      <td>1.0</td>\n",
       "      <td>6.0</td>\n",
       "      <td>2.0</td>\n",
       "      <td>1.0</td>\n",
       "      <td>NaN</td>\n",
       "      <td>11.0</td>\n",
       "      <td>7.0</td>\n",
       "    </tr>\n",
       "  </tbody>\n",
       "</table>\n",
       "</div>"
      ],
      "text/plain": [
       "category                             Biología de la especie  \\\n",
       "file_name                                                     \n",
       "Biesmeijer & Tóth, 1998.pdf                            12.0   \n",
       "González-Jaramillo et al., 2019.pdf                     1.0   \n",
       "Macías-Macías et al., 2011.pdf                         12.0   \n",
       "Ruano-Iraheta et al., 2015.pdf                          3.0   \n",
       "\n",
       "category                             Clasificación y descripción de la especie  \\\n",
       "file_name                                                                        \n",
       "Biesmeijer & Tóth, 1998.pdf                                                NaN   \n",
       "González-Jaramillo et al., 2019.pdf                                        1.0   \n",
       "Macías-Macías et al., 2011.pdf                                             1.0   \n",
       "Ruano-Iraheta et al., 2015.pdf                                             1.0   \n",
       "\n",
       "category                             Distribución de la especie  \\\n",
       "file_name                                                         \n",
       "Biesmeijer & Tóth, 1998.pdf                                 NaN   \n",
       "González-Jaramillo et al., 2019.pdf                         NaN   \n",
       "Macías-Macías et al., 2011.pdf                              3.0   \n",
       "Ruano-Iraheta et al., 2015.pdf                              6.0   \n",
       "\n",
       "category                             Ecología y demografía de la especie  \\\n",
       "file_name                                                                  \n",
       "Biesmeijer & Tóth, 1998.pdf                                          1.0   \n",
       "González-Jaramillo et al., 2019.pdf                                  NaN   \n",
       "Macías-Macías et al., 2011.pdf                                       NaN   \n",
       "Ruano-Iraheta et al., 2015.pdf                                       2.0   \n",
       "\n",
       "category                             Estado de conservación de la especie  \\\n",
       "file_name                                                                   \n",
       "Biesmeijer & Tóth, 1998.pdf                                           NaN   \n",
       "González-Jaramillo et al., 2019.pdf                                   NaN   \n",
       "Macías-Macías et al., 2011.pdf                                        NaN   \n",
       "Ruano-Iraheta et al., 2015.pdf                                        1.0   \n",
       "\n",
       "category                             Importancia de la especie  Metadatos  \\\n",
       "file_name                                                                   \n",
       "Biesmeijer & Tóth, 1998.pdf                                NaN        4.0   \n",
       "González-Jaramillo et al., 2019.pdf                        2.0        2.0   \n",
       "Macías-Macías et al., 2011.pdf                             NaN        4.0   \n",
       "Ruano-Iraheta et al., 2015.pdf                             NaN       11.0   \n",
       "\n",
       "category                             Tipo de ambiente en donde se desarrolla la especie  \n",
       "file_name                                                                                \n",
       "Biesmeijer & Tóth, 1998.pdf                                                        1.0   \n",
       "González-Jaramillo et al., 2019.pdf                                                NaN   \n",
       "Macías-Macías et al., 2011.pdf                                                     NaN   \n",
       "Ruano-Iraheta et al., 2015.pdf                                                     7.0   "
      ]
     },
     "execution_count": 5,
     "metadata": {},
     "output_type": "execute_result"
    }
   ],
   "source": [
    "df2 = df_.copy().filter(['source', 'author','category','racional','page_content'])\n",
    "df2[\"file_name\"]= df2.source.apply(lambda x: Path(x).name)\n",
    "\n",
    "df2 = df2.groupby(['file_name', 'category'])\\\n",
    "        [['page_content']]\\\n",
    "        .count().rename({'page_content':'counts'},axis=1).reset_index(['file_name', 'category'])\n",
    "df2.pivot(columns=['category'],index=['file_name']).droplevel(None, axis= 1)"
   ]
  },
  {
   "cell_type": "code",
   "execution_count": 37,
   "metadata": {},
   "outputs": [],
   "source": [
    "df3 = df2.pivot(columns=['category'],index=['file_name']).droplevel(None, axis= 1)\n",
    "df3.index = [name[:-10] for name in df3.index] # sin terminación \", aaaa.pdf\"\n",
    "\n",
    "column_names = df3.columns.to_list()\n",
    "\n",
    "data = {'index': df3.index.to_list(),\n",
    "    **{col: df3[col].fillna(0).to_list() for col in column_names}  # Dictionary unpacking\n",
    "}\n",
    "source = ColumnDataSource(data)"
   ]
  },
  {
   "cell_type": "code",
   "execution_count": 68,
   "metadata": {},
   "outputs": [
    {
     "name": "stderr",
     "output_type": "stream",
     "text": [
      "/home/camilo/.cache/pypoetry/virtualenvs/find-info-app-is0taAXE-py3.10/lib/python3.10/site-packages/bokeh/models/plots.py:815: UserWarning: \n",
      "You are attempting to set `plot.legend.orientation` on a plot that has zero legends added, this will have no effect.\n",
      "\n",
      "Before legend properties can be set, you must add a Legend explicitly, or call a glyph method with a legend parameter set.\n",
      "\n",
      "  warnings.warn(_LEGEND_EMPTY_WARNING % attr)\n"
     ]
    },
    {
     "data": {
      "text/html": [
       "\n",
       "  <div class=\"bk-root\" id=\"23d246a0-fc31-4a3d-bcb1-7e0ad396a92f\" data-root-id=\"13182\"></div>\n"
      ]
     },
     "metadata": {},
     "output_type": "display_data"
    },
    {
     "data": {
      "application/javascript": "(function(root) {\n  function embed_document(root) {\n  const docs_json = {\"11be0da6-4e37-4f09-b818-3f616106d2cb\":{\"defs\":[],\"roots\":{\"references\":[{\"attributes\":{\"below\":[{\"id\":\"13191\"}],\"center\":[{\"id\":\"13193\"},{\"id\":\"13197\"}],\"left\":[{\"id\":\"13194\"}],\"renderers\":[{\"id\":\"13233\"},{\"id\":\"13251\"},{\"id\":\"13269\"},{\"id\":\"13287\"},{\"id\":\"13305\"},{\"id\":\"13323\"},{\"id\":\"13341\"},{\"id\":\"13359\"}],\"right\":[{\"id\":\"13212\"}],\"title\":{\"id\":\"13235\"},\"toolbar\":{\"id\":\"13205\"},\"x_range\":{\"id\":\"13183\"},\"x_scale\":{\"id\":\"13187\"},\"y_range\":{\"id\":\"13185\"},\"y_scale\":{\"id\":\"13189\"}},\"id\":\"13182\",\"subtype\":\"Figure\",\"type\":\"Plot\"},{\"attributes\":{\"coordinates\":null,\"formatter\":{\"id\":\"13238\"},\"group\":null,\"major_label_policy\":{\"id\":\"13239\"},\"ticker\":{\"id\":\"13195\"}},\"id\":\"13194\",\"type\":\"LinearAxis\"},{\"attributes\":{\"bottom\":{\"expr\":{\"id\":\"13227\"}},\"fill_alpha\":{\"value\":0.1},\"fill_color\":{\"value\":\"#ff9896\"},\"hatch_alpha\":{\"value\":0.1},\"hatch_color\":{\"value\":\"#ff9896\"},\"line_alpha\":{\"value\":0.1},\"line_color\":{\"value\":\"#ff9896\"},\"top\":{\"expr\":{\"id\":\"13228\"}},\"x\":{\"field\":\"index\"}},\"id\":\"13357\",\"type\":\"VBar\"},{\"attributes\":{\"bottom\":{\"expr\":{\"id\":\"13227\"}},\"fill_alpha\":{\"value\":0.2},\"fill_color\":{\"value\":\"#ff9896\"},\"hatch_alpha\":{\"value\":0.2},\"hatch_color\":{\"value\":\"#ff9896\"},\"line_alpha\":{\"value\":0.2},\"line_color\":{\"value\":\"#ff9896\"},\"top\":{\"expr\":{\"id\":\"13228\"}},\"x\":{\"field\":\"index\"}},\"id\":\"13358\",\"type\":\"VBar\"},{\"attributes\":{\"bottom\":{\"expr\":{\"id\":\"13219\"}},\"fill_color\":{\"value\":\"#ffbb78\"},\"hatch_color\":{\"value\":\"#ffbb78\"},\"line_color\":{\"value\":\"#ffbb78\"},\"top\":{\"expr\":{\"id\":\"13220\"}},\"x\":{\"field\":\"index\"}},\"id\":\"13284\",\"type\":\"VBar\"},{\"attributes\":{\"source\":{\"id\":\"13181\"}},\"id\":\"13252\",\"type\":\"CDSView\"},{\"attributes\":{\"bottom\":{\"expr\":{\"id\":\"13219\"}},\"fill_alpha\":{\"value\":0.2},\"fill_color\":{\"value\":\"#ffbb78\"},\"hatch_alpha\":{\"value\":0.2},\"hatch_color\":{\"value\":\"#ffbb78\"},\"line_alpha\":{\"value\":0.2},\"line_color\":{\"value\":\"#ffbb78\"},\"top\":{\"expr\":{\"id\":\"13220\"}},\"x\":{\"field\":\"index\"}},\"id\":\"13286\",\"type\":\"VBar\"},{\"attributes\":{\"label\":{\"value\":\"Clasificaci\\u00f3n y descripci\\u00f3n de la espec\"},\"renderers\":[{\"id\":\"13251\"}]},\"id\":\"13264\",\"type\":\"LegendItem\"},{\"attributes\":{\"bottom\":{\"expr\":{\"id\":\"13219\"}},\"fill_alpha\":{\"value\":0.1},\"fill_color\":{\"value\":\"#ffbb78\"},\"hatch_alpha\":{\"value\":0.1},\"hatch_color\":{\"value\":\"#ffbb78\"},\"line_alpha\":{\"value\":0.1},\"line_color\":{\"value\":\"#ffbb78\"},\"top\":{\"expr\":{\"id\":\"13220\"}},\"x\":{\"field\":\"index\"}},\"id\":\"13285\",\"type\":\"VBar\"},{\"attributes\":{\"coordinates\":null,\"data_source\":{\"id\":\"13181\"},\"glyph\":{\"id\":\"13356\"},\"group\":null,\"hover_glyph\":null,\"muted_glyph\":{\"id\":\"13358\"},\"name\":\"Tipo de ambiente en donde se desarrolla la especie\",\"nonselection_glyph\":{\"id\":\"13357\"},\"view\":{\"id\":\"13360\"}},\"id\":\"13359\",\"type\":\"GlyphRenderer\"},{\"attributes\":{\"source\":{\"id\":\"13181\"}},\"id\":\"13360\",\"type\":\"CDSView\"},{\"attributes\":{\"coordinates\":null,\"data_source\":{\"id\":\"13181\"},\"glyph\":{\"id\":\"13284\"},\"group\":null,\"hover_glyph\":null,\"muted_glyph\":{\"id\":\"13286\"},\"name\":\"Ecolog\\u00eda y demograf\\u00eda de la especie\",\"nonselection_glyph\":{\"id\":\"13285\"},\"view\":{\"id\":\"13288\"}},\"id\":\"13287\",\"type\":\"GlyphRenderer\"},{\"attributes\":{\"source\":{\"id\":\"13181\"}},\"id\":\"13288\",\"type\":\"CDSView\"},{\"attributes\":{\"click_policy\":\"hide\",\"coordinates\":null,\"group\":null,\"items\":[{\"id\":\"13246\"},{\"id\":\"13264\"},{\"id\":\"13282\"},{\"id\":\"13300\"},{\"id\":\"13318\"},{\"id\":\"13336\"},{\"id\":\"13354\"},{\"id\":\"13372\"}]},\"id\":\"13212\",\"type\":\"Legend\"},{\"attributes\":{\"bottom\":{\"expr\":{\"id\":\"13215\"}},\"fill_alpha\":{\"value\":0.2},\"fill_color\":{\"value\":\"#aec7e8\"},\"hatch_alpha\":{\"value\":0.2},\"hatch_color\":{\"value\":\"#aec7e8\"},\"line_alpha\":{\"value\":0.2},\"line_color\":{\"value\":\"#aec7e8\"},\"top\":{\"expr\":{\"id\":\"13216\"}},\"x\":{\"field\":\"index\"}},\"id\":\"13250\",\"type\":\"VBar\"},{\"attributes\":{\"label\":{\"value\":\"Tipo de ambiente en donde se desarrolla\"},\"renderers\":[{\"id\":\"13359\"}]},\"id\":\"13372\",\"type\":\"LegendItem\"},{\"attributes\":{\"label\":{\"value\":\"Ecolog\\u00eda y demograf\\u00eda de la especie\"},\"renderers\":[{\"id\":\"13287\"}]},\"id\":\"13300\",\"type\":\"LegendItem\"},{\"attributes\":{\"axis\":{\"id\":\"13191\"},\"coordinates\":null,\"group\":null,\"ticker\":null},\"id\":\"13193\",\"type\":\"Grid\"},{\"attributes\":{\"factors\":[\"Biesmeijer & T\\u00f3th\",\"Gonz\\u00e1lez-Jaramillo et al.\",\"Mac\\u00edas-Mac\\u00edas et al.\",\"Ruano-Iraheta et al.\"]},\"id\":\"13183\",\"type\":\"FactorRange\"},{\"attributes\":{\"bottom\":{\"expr\":{\"id\":\"13221\"}},\"fill_color\":{\"value\":\"#2ca02c\"},\"hatch_color\":{\"value\":\"#2ca02c\"},\"line_color\":{\"value\":\"#2ca02c\"},\"top\":{\"expr\":{\"id\":\"13222\"}},\"x\":{\"field\":\"index\"}},\"id\":\"13302\",\"type\":\"VBar\"},{\"attributes\":{\"bottom\":{\"expr\":{\"id\":\"13221\"}},\"fill_alpha\":{\"value\":0.2},\"fill_color\":{\"value\":\"#2ca02c\"},\"hatch_alpha\":{\"value\":0.2},\"hatch_color\":{\"value\":\"#2ca02c\"},\"line_alpha\":{\"value\":0.2},\"line_color\":{\"value\":\"#2ca02c\"},\"top\":{\"expr\":{\"id\":\"13222\"}},\"x\":{\"field\":\"index\"}},\"id\":\"13304\",\"type\":\"VBar\"},{\"attributes\":{\"data\":{\"Biolog\\u00eda de la especie\":[12.0,1.0,12.0,3.0],\"Clasificaci\\u00f3n y descripci\\u00f3n de la especie\":[0.0,1.0,1.0,1.0],\"Distribuci\\u00f3n de la especie\":[0.0,0.0,3.0,6.0],\"Ecolog\\u00eda y demograf\\u00eda de la especie\":[1.0,0.0,0.0,2.0],\"Estado de conservaci\\u00f3n de la especie\":[0.0,0.0,0.0,1.0],\"Importancia de la especie\":[0.0,2.0,0.0,0.0],\"Metadatos\":[4.0,2.0,4.0,11.0],\"Tipo de ambiente en donde se desarrolla la especie\":[1.0,0.0,0.0,7.0],\"index\":[\"Biesmeijer & T\\u00f3th\",\"Gonz\\u00e1lez-Jaramillo et al.\",\"Mac\\u00edas-Mac\\u00edas et al.\",\"Ruano-Iraheta et al.\"]},\"selected\":{\"id\":\"13244\"},\"selection_policy\":{\"id\":\"13243\"}},\"id\":\"13181\",\"type\":\"ColumnDataSource\"},{\"attributes\":{\"bottom\":{\"expr\":{\"id\":\"13221\"}},\"fill_alpha\":{\"value\":0.1},\"fill_color\":{\"value\":\"#2ca02c\"},\"hatch_alpha\":{\"value\":0.1},\"hatch_color\":{\"value\":\"#2ca02c\"},\"line_alpha\":{\"value\":0.1},\"line_color\":{\"value\":\"#2ca02c\"},\"top\":{\"expr\":{\"id\":\"13222\"}},\"x\":{\"field\":\"index\"}},\"id\":\"13303\",\"type\":\"VBar\"},{\"attributes\":{},\"id\":\"13244\",\"type\":\"Selection\"},{\"attributes\":{\"coordinates\":null,\"data_source\":{\"id\":\"13181\"},\"glyph\":{\"id\":\"13302\"},\"group\":null,\"hover_glyph\":null,\"muted_glyph\":{\"id\":\"13304\"},\"name\":\"Estado de conservaci\\u00f3n de la especie\",\"nonselection_glyph\":{\"id\":\"13303\"},\"view\":{\"id\":\"13306\"}},\"id\":\"13305\",\"type\":\"GlyphRenderer\"},{\"attributes\":{\"source\":{\"id\":\"13181\"}},\"id\":\"13306\",\"type\":\"CDSView\"},{\"attributes\":{},\"id\":\"13243\",\"type\":\"UnionRenderers\"},{\"attributes\":{},\"id\":\"13189\",\"type\":\"LinearScale\"},{\"attributes\":{\"bottom\":{\"expr\":{\"id\":\"13215\"}},\"fill_color\":{\"value\":\"#aec7e8\"},\"hatch_color\":{\"value\":\"#aec7e8\"},\"line_color\":{\"value\":\"#aec7e8\"},\"top\":{\"expr\":{\"id\":\"13216\"}},\"x\":{\"field\":\"index\"}},\"id\":\"13248\",\"type\":\"VBar\"},{\"attributes\":{\"label\":{\"value\":\"Estado de conservaci\\u00f3n de la especie\"},\"renderers\":[{\"id\":\"13305\"}]},\"id\":\"13318\",\"type\":\"LegendItem\"},{\"attributes\":{\"source\":{\"id\":\"13181\"}},\"id\":\"13234\",\"type\":\"CDSView\"},{\"attributes\":{\"fields\":[\"Biolog\\u00eda de la especie\",\"Clasificaci\\u00f3n y descripci\\u00f3n de la especie\",\"Distribuci\\u00f3n de la especie\",\"Ecolog\\u00eda y demograf\\u00eda de la especie\",\"Estado de conservaci\\u00f3n de la especie\",\"Importancia de la especie\"]},\"id\":\"13224\",\"type\":\"Stack\"},{\"attributes\":{\"label\":{\"value\":\"Biolog\\u00eda de la especie\"},\"renderers\":[{\"id\":\"13233\"}]},\"id\":\"13246\",\"type\":\"LegendItem\"},{\"attributes\":{},\"id\":\"13242\",\"type\":\"AllLabels\"},{\"attributes\":{\"coordinates\":null,\"data_source\":{\"id\":\"13181\"},\"glyph\":{\"id\":\"13230\"},\"group\":null,\"hover_glyph\":null,\"muted_glyph\":{\"id\":\"13232\"},\"name\":\"Biolog\\u00eda de la especie\",\"nonselection_glyph\":{\"id\":\"13231\"},\"view\":{\"id\":\"13234\"}},\"id\":\"13233\",\"type\":\"GlyphRenderer\"},{\"attributes\":{\"fields\":[\"Biolog\\u00eda de la especie\",\"Clasificaci\\u00f3n y descripci\\u00f3n de la especie\",\"Distribuci\\u00f3n de la especie\",\"Ecolog\\u00eda y demograf\\u00eda de la especie\",\"Estado de conservaci\\u00f3n de la especie\",\"Importancia de la especie\"]},\"id\":\"13225\",\"type\":\"Stack\"},{\"attributes\":{\"fields\":[\"Biolog\\u00eda de la especie\",\"Clasificaci\\u00f3n y descripci\\u00f3n de la especie\",\"Distribuci\\u00f3n de la especie\",\"Ecolog\\u00eda y demograf\\u00eda de la especie\",\"Estado de conservaci\\u00f3n de la especie\"]},\"id\":\"13223\",\"type\":\"Stack\"},{\"attributes\":{\"coordinates\":null,\"formatter\":{\"id\":\"13241\"},\"group\":null,\"major_label_orientation\":-45,\"major_label_policy\":{\"id\":\"13242\"},\"ticker\":{\"id\":\"13192\"}},\"id\":\"13191\",\"type\":\"CategoricalAxis\"},{\"attributes\":{},\"id\":\"13187\",\"type\":\"CategoricalScale\"},{\"attributes\":{},\"id\":\"13238\",\"type\":\"BasicTickFormatter\"},{\"attributes\":{\"bottom\":{\"expr\":{\"id\":\"13223\"}},\"fill_color\":{\"value\":\"#98df8a\"},\"hatch_color\":{\"value\":\"#98df8a\"},\"line_color\":{\"value\":\"#98df8a\"},\"top\":{\"expr\":{\"id\":\"13224\"}},\"x\":{\"field\":\"index\"}},\"id\":\"13320\",\"type\":\"VBar\"},{\"attributes\":{\"bottom\":{\"expr\":{\"id\":\"13223\"}},\"fill_alpha\":{\"value\":0.2},\"fill_color\":{\"value\":\"#98df8a\"},\"hatch_alpha\":{\"value\":0.2},\"hatch_color\":{\"value\":\"#98df8a\"},\"line_alpha\":{\"value\":0.2},\"line_color\":{\"value\":\"#98df8a\"},\"top\":{\"expr\":{\"id\":\"13224\"}},\"x\":{\"field\":\"index\"}},\"id\":\"13322\",\"type\":\"VBar\"},{\"attributes\":{\"bottom\":{\"expr\":{\"id\":\"13223\"}},\"fill_alpha\":{\"value\":0.1},\"fill_color\":{\"value\":\"#98df8a\"},\"hatch_alpha\":{\"value\":0.1},\"hatch_color\":{\"value\":\"#98df8a\"},\"line_alpha\":{\"value\":0.1},\"line_color\":{\"value\":\"#98df8a\"},\"top\":{\"expr\":{\"id\":\"13224\"}},\"x\":{\"field\":\"index\"}},\"id\":\"13321\",\"type\":\"VBar\"},{\"attributes\":{\"coordinates\":null,\"data_source\":{\"id\":\"13181\"},\"glyph\":{\"id\":\"13320\"},\"group\":null,\"hover_glyph\":null,\"muted_glyph\":{\"id\":\"13322\"},\"name\":\"Importancia de la especie\",\"nonselection_glyph\":{\"id\":\"13321\"},\"view\":{\"id\":\"13324\"}},\"id\":\"13323\",\"type\":\"GlyphRenderer\"},{\"attributes\":{\"source\":{\"id\":\"13181\"}},\"id\":\"13324\",\"type\":\"CDSView\"},{\"attributes\":{},\"id\":\"13203\",\"type\":\"HelpTool\"},{\"attributes\":{\"fields\":[\"Biolog\\u00eda de la especie\",\"Clasificaci\\u00f3n y descripci\\u00f3n de la especie\",\"Distribuci\\u00f3n de la especie\",\"Ecolog\\u00eda y demograf\\u00eda de la especie\",\"Estado de conservaci\\u00f3n de la especie\",\"Importancia de la especie\",\"Metadatos\",\"Tipo de ambiente en donde se desarrolla la especie\"]},\"id\":\"13228\",\"type\":\"Stack\"},{\"attributes\":{\"axis\":{\"id\":\"13194\"},\"coordinates\":null,\"dimension\":1,\"group\":null,\"ticker\":null},\"id\":\"13197\",\"type\":\"Grid\"},{\"attributes\":{},\"id\":\"13195\",\"type\":\"BasicTicker\"},{\"attributes\":{\"bottom\":{\"expr\":{\"id\":\"13213\"}},\"fill_alpha\":{\"value\":0.1},\"fill_color\":{\"value\":\"#1f77b4\"},\"hatch_alpha\":{\"value\":0.1},\"hatch_color\":{\"value\":\"#1f77b4\"},\"line_alpha\":{\"value\":0.1},\"line_color\":{\"value\":\"#1f77b4\"},\"top\":{\"expr\":{\"id\":\"13214\"}},\"x\":{\"field\":\"index\"}},\"id\":\"13231\",\"type\":\"VBar\"},{\"attributes\":{},\"id\":\"13199\",\"type\":\"WheelZoomTool\"},{\"attributes\":{},\"id\":\"13185\",\"type\":\"DataRange1d\"},{\"attributes\":{\"bottom\":{\"expr\":{\"id\":\"13225\"}},\"fill_alpha\":{\"value\":0.2},\"fill_color\":{\"value\":\"#F0F0F0\"},\"hatch_alpha\":{\"value\":0.2},\"hatch_color\":{\"value\":\"#F0F0F0\"},\"line_alpha\":{\"value\":0.2},\"line_color\":{\"value\":\"#F0F0F0\"},\"top\":{\"expr\":{\"id\":\"13226\"}},\"x\":{\"field\":\"index\"}},\"id\":\"13340\",\"type\":\"VBar\"},{\"attributes\":{\"coordinates\":null,\"group\":null},\"id\":\"13235\",\"type\":\"Title\"},{\"attributes\":{},\"id\":\"13198\",\"type\":\"PanTool\"},{\"attributes\":{\"overlay\":{\"id\":\"13204\"}},\"id\":\"13200\",\"type\":\"BoxZoomTool\"},{\"attributes\":{\"bottom\":{\"expr\":{\"id\":\"13213\"}},\"fill_alpha\":{\"value\":0.2},\"fill_color\":{\"value\":\"#1f77b4\"},\"hatch_alpha\":{\"value\":0.2},\"hatch_color\":{\"value\":\"#1f77b4\"},\"line_alpha\":{\"value\":0.2},\"line_color\":{\"value\":\"#1f77b4\"},\"top\":{\"expr\":{\"id\":\"13214\"}},\"x\":{\"field\":\"index\"}},\"id\":\"13232\",\"type\":\"VBar\"},{\"attributes\":{},\"id\":\"13201\",\"type\":\"SaveTool\"},{\"attributes\":{\"label\":{\"value\":\"Importancia de la especie\"},\"renderers\":[{\"id\":\"13323\"}]},\"id\":\"13336\",\"type\":\"LegendItem\"},{\"attributes\":{},\"id\":\"13202\",\"type\":\"ResetTool\"},{\"attributes\":{\"fields\":[\"Biolog\\u00eda de la especie\",\"Clasificaci\\u00f3n y descripci\\u00f3n de la especie\",\"Distribuci\\u00f3n de la especie\",\"Ecolog\\u00eda y demograf\\u00eda de la especie\",\"Estado de conservaci\\u00f3n de la especie\"]},\"id\":\"13222\",\"type\":\"Stack\"},{\"attributes\":{},\"id\":\"13241\",\"type\":\"CategoricalTickFormatter\"},{\"attributes\":{\"fields\":[\"Biolog\\u00eda de la especie\",\"Clasificaci\\u00f3n y descripci\\u00f3n de la especie\",\"Distribuci\\u00f3n de la especie\",\"Ecolog\\u00eda y demograf\\u00eda de la especie\",\"Estado de conservaci\\u00f3n de la especie\",\"Importancia de la especie\",\"Metadatos\"]},\"id\":\"13227\",\"type\":\"Stack\"},{\"attributes\":{\"fields\":[\"Biolog\\u00eda de la especie\",\"Clasificaci\\u00f3n y descripci\\u00f3n de la especie\",\"Distribuci\\u00f3n de la especie\",\"Ecolog\\u00eda y demograf\\u00eda de la especie\"]},\"id\":\"13221\",\"type\":\"Stack\"},{\"attributes\":{\"fields\":[\"Biolog\\u00eda de la especie\",\"Clasificaci\\u00f3n y descripci\\u00f3n de la especie\",\"Distribuci\\u00f3n de la especie\",\"Ecolog\\u00eda y demograf\\u00eda de la especie\",\"Estado de conservaci\\u00f3n de la especie\",\"Importancia de la especie\",\"Metadatos\"]},\"id\":\"13226\",\"type\":\"Stack\"},{\"attributes\":{},\"id\":\"13239\",\"type\":\"AllLabels\"},{\"attributes\":{\"fields\":[\"Biolog\\u00eda de la especie\",\"Clasificaci\\u00f3n y descripci\\u00f3n de la especie\",\"Distribuci\\u00f3n de la especie\",\"Ecolog\\u00eda y demograf\\u00eda de la especie\"]},\"id\":\"13220\",\"type\":\"Stack\"},{\"attributes\":{},\"id\":\"13192\",\"type\":\"CategoricalTicker\"},{\"attributes\":{\"bottom\":{\"expr\":{\"id\":\"13213\"}},\"fill_color\":{\"value\":\"#1f77b4\"},\"hatch_color\":{\"value\":\"#1f77b4\"},\"line_color\":{\"value\":\"#1f77b4\"},\"top\":{\"expr\":{\"id\":\"13214\"}},\"x\":{\"field\":\"index\"}},\"id\":\"13230\",\"type\":\"VBar\"},{\"attributes\":{\"fields\":[\"Biolog\\u00eda de la especie\",\"Clasificaci\\u00f3n y descripci\\u00f3n de la especie\",\"Distribuci\\u00f3n de la especie\"]},\"id\":\"13219\",\"type\":\"Stack\"},{\"attributes\":{\"fields\":[\"Biolog\\u00eda de la especie\",\"Clasificaci\\u00f3n y descripci\\u00f3n de la especie\"]},\"id\":\"13216\",\"type\":\"Stack\"},{\"attributes\":{\"bottom\":{\"expr\":{\"id\":\"13225\"}},\"fill_alpha\":{\"value\":0.1},\"fill_color\":{\"value\":\"#F0F0F0\"},\"hatch_alpha\":{\"value\":0.1},\"hatch_color\":{\"value\":\"#F0F0F0\"},\"line_alpha\":{\"value\":0.1},\"line_color\":{\"value\":\"#F0F0F0\"},\"top\":{\"expr\":{\"id\":\"13226\"}},\"x\":{\"field\":\"index\"}},\"id\":\"13339\",\"type\":\"VBar\"},{\"attributes\":{\"bottom_units\":\"screen\",\"coordinates\":null,\"fill_alpha\":0.5,\"fill_color\":\"lightgrey\",\"group\":null,\"left_units\":\"screen\",\"level\":\"overlay\",\"line_alpha\":1.0,\"line_color\":\"black\",\"line_dash\":[4,4],\"line_width\":2,\"right_units\":\"screen\",\"syncable\":false,\"top_units\":\"screen\"},\"id\":\"13204\",\"type\":\"BoxAnnotation\"},{\"attributes\":{\"tools\":[{\"id\":\"13198\"},{\"id\":\"13199\"},{\"id\":\"13200\"},{\"id\":\"13201\"},{\"id\":\"13202\"},{\"id\":\"13203\"}]},\"id\":\"13205\",\"type\":\"Toolbar\"},{\"attributes\":{\"bottom\":{\"expr\":{\"id\":\"13225\"}},\"fill_color\":{\"value\":\"#F0F0F0\"},\"hatch_color\":{\"value\":\"#F0F0F0\"},\"line_color\":{\"value\":\"#F0F0F0\"},\"top\":{\"expr\":{\"id\":\"13226\"}},\"x\":{\"field\":\"index\"}},\"id\":\"13338\",\"type\":\"VBar\"},{\"attributes\":{\"bottom\":{\"expr\":{\"id\":\"13217\"}},\"fill_color\":{\"value\":\"#ff7f0e\"},\"hatch_color\":{\"value\":\"#ff7f0e\"},\"line_color\":{\"value\":\"#ff7f0e\"},\"top\":{\"expr\":{\"id\":\"13218\"}},\"x\":{\"field\":\"index\"}},\"id\":\"13266\",\"type\":\"VBar\"},{\"attributes\":{\"bottom\":{\"expr\":{\"id\":\"13217\"}},\"fill_alpha\":{\"value\":0.2},\"fill_color\":{\"value\":\"#ff7f0e\"},\"hatch_alpha\":{\"value\":0.2},\"hatch_color\":{\"value\":\"#ff7f0e\"},\"line_alpha\":{\"value\":0.2},\"line_color\":{\"value\":\"#ff7f0e\"},\"top\":{\"expr\":{\"id\":\"13218\"}},\"x\":{\"field\":\"index\"}},\"id\":\"13268\",\"type\":\"VBar\"},{\"attributes\":{\"bottom\":{\"expr\":{\"id\":\"13217\"}},\"fill_alpha\":{\"value\":0.1},\"fill_color\":{\"value\":\"#ff7f0e\"},\"hatch_alpha\":{\"value\":0.1},\"hatch_color\":{\"value\":\"#ff7f0e\"},\"line_alpha\":{\"value\":0.1},\"line_color\":{\"value\":\"#ff7f0e\"},\"top\":{\"expr\":{\"id\":\"13218\"}},\"x\":{\"field\":\"index\"}},\"id\":\"13267\",\"type\":\"VBar\"},{\"attributes\":{\"coordinates\":null,\"data_source\":{\"id\":\"13181\"},\"glyph\":{\"id\":\"13338\"},\"group\":null,\"hover_glyph\":null,\"muted_glyph\":{\"id\":\"13340\"},\"name\":\"Metadatos\",\"nonselection_glyph\":{\"id\":\"13339\"},\"view\":{\"id\":\"13342\"}},\"id\":\"13341\",\"type\":\"GlyphRenderer\"},{\"attributes\":{\"source\":{\"id\":\"13181\"}},\"id\":\"13342\",\"type\":\"CDSView\"},{\"attributes\":{\"fields\":[\"Biolog\\u00eda de la especie\"]},\"id\":\"13214\",\"type\":\"Stack\"},{\"attributes\":{\"coordinates\":null,\"data_source\":{\"id\":\"13181\"},\"glyph\":{\"id\":\"13266\"},\"group\":null,\"hover_glyph\":null,\"muted_glyph\":{\"id\":\"13268\"},\"name\":\"Distribuci\\u00f3n de la especie\",\"nonselection_glyph\":{\"id\":\"13267\"},\"view\":{\"id\":\"13270\"}},\"id\":\"13269\",\"type\":\"GlyphRenderer\"},{\"attributes\":{\"source\":{\"id\":\"13181\"}},\"id\":\"13270\",\"type\":\"CDSView\"},{\"attributes\":{\"fields\":[\"Biolog\\u00eda de la especie\",\"Clasificaci\\u00f3n y descripci\\u00f3n de la especie\"]},\"id\":\"13217\",\"type\":\"Stack\"},{\"attributes\":{\"bottom\":{\"expr\":{\"id\":\"13215\"}},\"fill_alpha\":{\"value\":0.1},\"fill_color\":{\"value\":\"#aec7e8\"},\"hatch_alpha\":{\"value\":0.1},\"hatch_color\":{\"value\":\"#aec7e8\"},\"line_alpha\":{\"value\":0.1},\"line_color\":{\"value\":\"#aec7e8\"},\"top\":{\"expr\":{\"id\":\"13216\"}},\"x\":{\"field\":\"index\"}},\"id\":\"13249\",\"type\":\"VBar\"},{\"attributes\":{\"bottom\":{\"expr\":{\"id\":\"13227\"}},\"fill_color\":{\"value\":\"#ff9896\"},\"hatch_color\":{\"value\":\"#ff9896\"},\"line_color\":{\"value\":\"#ff9896\"},\"top\":{\"expr\":{\"id\":\"13228\"}},\"x\":{\"field\":\"index\"}},\"id\":\"13356\",\"type\":\"VBar\"},{\"attributes\":{\"fields\":[]},\"id\":\"13213\",\"type\":\"Stack\"},{\"attributes\":{\"label\":{\"value\":\"Metadatos\"},\"renderers\":[{\"id\":\"13341\"}]},\"id\":\"13354\",\"type\":\"LegendItem\"},{\"attributes\":{\"label\":{\"value\":\"Distribuci\\u00f3n de la especie\"},\"renderers\":[{\"id\":\"13269\"}]},\"id\":\"13282\",\"type\":\"LegendItem\"},{\"attributes\":{\"coordinates\":null,\"data_source\":{\"id\":\"13181\"},\"glyph\":{\"id\":\"13248\"},\"group\":null,\"hover_glyph\":null,\"muted_glyph\":{\"id\":\"13250\"},\"name\":\"Clasificaci\\u00f3n y descripci\\u00f3n de la especie\",\"nonselection_glyph\":{\"id\":\"13249\"},\"view\":{\"id\":\"13252\"}},\"id\":\"13251\",\"type\":\"GlyphRenderer\"},{\"attributes\":{\"fields\":[\"Biolog\\u00eda de la especie\"]},\"id\":\"13215\",\"type\":\"Stack\"},{\"attributes\":{\"fields\":[\"Biolog\\u00eda de la especie\",\"Clasificaci\\u00f3n y descripci\\u00f3n de la especie\",\"Distribuci\\u00f3n de la especie\"]},\"id\":\"13218\",\"type\":\"Stack\"}],\"root_ids\":[\"13182\"]},\"title\":\"Bokeh Application\",\"version\":\"2.4.3\"}};\n  const render_items = [{\"docid\":\"11be0da6-4e37-4f09-b818-3f616106d2cb\",\"root_ids\":[\"13182\"],\"roots\":{\"13182\":\"23d246a0-fc31-4a3d-bcb1-7e0ad396a92f\"}}];\n  root.Bokeh.embed.embed_items_notebook(docs_json, render_items);\n  }\n  if (root.Bokeh !== undefined) {\n    embed_document(root);\n  } else {\n    let attempts = 0;\n    const timer = setInterval(function(root) {\n      if (root.Bokeh !== undefined) {\n        clearInterval(timer);\n        embed_document(root);\n      } else {\n        attempts++;\n        if (attempts > 100) {\n          clearInterval(timer);\n          console.log(\"Bokeh: ERROR: Unable to run BokehJS code because BokehJS library is missing\");\n        }\n      }\n    }, 10, root)\n  }\n})(window);",
      "application/vnd.bokehjs_exec.v0+json": ""
     },
     "metadata": {
      "application/vnd.bokehjs_exec.v0+json": {
       "id": "13182"
      }
     },
     "output_type": "display_data"
    }
   ],
   "source": [
    "n_catego = len(column_names)\n",
    "original_palette = palettes.Category20[n_catego]\n",
    "gray_color = \"#F0F0F0\" #\"#E0E0E0\"\n",
    "\n",
    "category_colors = {\n",
    "    category: color\n",
    "    for category, color in zip(column_names, original_palette)\n",
    "    if category != \"Metadatos\"\n",
    "}\n",
    "\n",
    "category_colors[\"Metadatos\"] = gray_color\n",
    "custom_palette = tuple(category_colors[category] for category in OrderedDict(sorted(category_colors.items())))\n",
    "\n",
    "#mapper = factor_cmap('category', palette=\"Category10_8\", factors=column_names) \n",
    "source = ColumnDataSource(data)\n",
    "\n",
    "p = figure(x_range= data.get('index'))\n",
    "#p.plot_height=400\n",
    "#p.plot_width=1000\n",
    "\n",
    "p.legend.orientation = \"horizontal\"\n",
    "p.add_layout(Legend(), place='right')  #'below'\n",
    "\n",
    "p.xaxis.major_label_orientation = -45\n",
    "p.xaxis.major_label_text_align='center'\n",
    "p.legend.click_policy='hide' #\"mute\" \n",
    "#p.legend.ncols=2\n",
    "p.vbar_stack(\n",
    "    stackers=column_names, \n",
    "    x='index', \n",
    "    source=source,\n",
    "    color = custom_palette,\n",
    "    legend_label = [cat[:39] for cat in column_names]\n",
    "    )\n",
    "show(p)"
   ]
  }
 ],
 "metadata": {
  "kernelspec": {
   "display_name": "find-info-app-YRO8mfeS-py3.10",
   "language": "python",
   "name": "python3"
  },
  "language_info": {
   "codemirror_mode": {
    "name": "ipython",
    "version": 3
   },
   "file_extension": ".py",
   "mimetype": "text/x-python",
   "name": "python",
   "nbconvert_exporter": "python",
   "pygments_lexer": "ipython3",
   "version": "3.10.12"
  }
 },
 "nbformat": 4,
 "nbformat_minor": 2
}
